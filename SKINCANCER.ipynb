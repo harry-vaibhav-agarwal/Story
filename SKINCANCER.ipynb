{
  "nbformat": 4,
  "nbformat_minor": 5,
  "metadata": {
    "accelerator": "GPU",
    "colab": {
      "name": "SKINCANCER",
      "provenance": [],
      "collapsed_sections": [],
      "include_colab_link": true
    },
    "kernelspec": {
      "display_name": "Python 3",
      "language": "python",
      "name": "python3"
    },
    "language_info": {
      "codemirror_mode": {
        "name": "ipython",
        "version": 3
      },
      "file_extension": ".py",
      "mimetype": "text/x-python",
      "name": "python",
      "nbconvert_exporter": "python",
      "pygments_lexer": "ipython3",
      "version": "3.7.9"
    },
    "papermill": {
      "default_parameters": {},
      "duration": 135.988312,
      "end_time": "2021-03-18T09:29:08.514762",
      "environment_variables": {},
      "exception": null,
      "input_path": "__notebook__.ipynb",
      "output_path": "__notebook__.ipynb",
      "parameters": {},
      "start_time": "2021-03-18T09:26:52.526450",
      "version": "2.3.2"
    }
  },
  "cells": [
    {
      "cell_type": "markdown",
      "metadata": {
        "id": "view-in-github",
        "colab_type": "text"
      },
      "source": [
        "<a href=\"https://colab.research.google.com/github/harry-vaibhav-agarwal/Story/blob/master/SKINCANCER.ipynb\" target=\"_parent\"><img src=\"https://colab.research.google.com/assets/colab-badge.svg\" alt=\"Open In Colab\"/></a>"
      ]
    },
    {
      "cell_type": "code",
      "metadata": {
        "colab": {
          "base_uri": "https://localhost:8080/"
        },
        "id": "cardiovascular-reservation",
        "outputId": "4e53267f-0ecb-4b21-83d1-f597ffcb8935"
      },
      "source": [
        "from google.colab import drive\n",
        "drive.mount('/content/drive')"
      ],
      "id": "cardiovascular-reservation",
      "execution_count": null,
      "outputs": [
        {
          "output_type": "stream",
          "text": [
            "Mounted at /content/drive\n"
          ],
          "name": "stdout"
        }
      ]
    },
    {
      "cell_type": "code",
      "metadata": {
        "id": "Aar7DYb5uGI5"
      },
      "source": [
        "import numpy as np\n",
        "import pandas as pd\n",
        "import glob\n",
        "import matplotlib.pyplot as plt\n",
        "import skimage.transform\n",
        "import os\n",
        "import gc"
      ],
      "id": "Aar7DYb5uGI5",
      "execution_count": 34,
      "outputs": []
    },
    {
      "cell_type": "code",
      "metadata": {
        "id": "owned-storage"
      },
      "source": [
        "def get_filelist(img_loc):\n",
        "    filelist = glob.glob(img_loc+'*.jpg')\n",
        "    filelist.sort()\n",
        "    return filelist"
      ],
      "id": "owned-storage",
      "execution_count": 35,
      "outputs": []
    },
    {
      "cell_type": "code",
      "metadata": {
        "id": "placed-salon"
      },
      "source": [
        "img_loc = '/content/drive/MyDrive/MachineLearning/ISIC2018/ISIC2018_Task3_Training_Input/'\n",
        "filelist =  get_filelist(img_loc)"
      ],
      "id": "placed-salon",
      "execution_count": 36,
      "outputs": []
    },
    {
      "cell_type": "code",
      "metadata": {
        "id": "dressed-resort"
      },
      "source": [
        "filelist"
      ],
      "id": "dressed-resort",
      "execution_count": null,
      "outputs": []
    },
    {
      "cell_type": "code",
      "metadata": {
        "colab": {
          "base_uri": "https://localhost:8080/"
        },
        "id": "communist-jesus",
        "outputId": "f60281b1-b481-4a76-b6f4-7fb675698975"
      },
      "source": [
        "print(len(filelist))"
      ],
      "id": "communist-jesus",
      "execution_count": 38,
      "outputs": [
        {
          "output_type": "stream",
          "text": [
            "10015\n"
          ],
          "name": "stdout"
        }
      ]
    },
    {
      "cell_type": "code",
      "metadata": {
        "id": "complicated-planning"
      },
      "source": [
        "def get_X_orig(filelist, input_shape):\n",
        "    \n",
        "    bs, n_H, n_W, n_C = input_shape\n",
        "    X_orig = np.empty([bs, n_H, n_W, n_C])\n",
        " \n",
        "    for i, fname in enumerate(filelist[:bs]):\n",
        "        img = plt.imread(fname)\n",
        "        img = skimage.transform.resize(img, (n_H,n_W), mode='constant')\n",
        "        X_orig[i] = img\n",
        "        if i%50 == 49 or i == bs-1:\n",
        "            print('{} files loaded'.format(i+1))\n",
        "    \n",
        "    return X_orig"
      ],
      "id": "complicated-planning",
      "execution_count": 39,
      "outputs": []
    },
    {
      "cell_type": "code",
      "metadata": {
        "colab": {
          "base_uri": "https://localhost:8080/"
        },
        "id": "built-pocket",
        "outputId": "00c7ced4-3821-47c8-d9cc-c12bdcfbc873"
      },
      "source": [
        "bs = 1000\n",
        "input_shape = [bs, 224, 224, 3]\n",
        " \n",
        "X_orig = get_X_orig(filelist, input_shape)"
      ],
      "id": "built-pocket",
      "execution_count": 40,
      "outputs": [
        {
          "output_type": "stream",
          "text": [
            "50 files loaded\n",
            "100 files loaded\n",
            "150 files loaded\n",
            "200 files loaded\n",
            "250 files loaded\n",
            "300 files loaded\n",
            "350 files loaded\n",
            "400 files loaded\n",
            "450 files loaded\n",
            "500 files loaded\n",
            "550 files loaded\n",
            "600 files loaded\n",
            "650 files loaded\n",
            "700 files loaded\n",
            "750 files loaded\n",
            "800 files loaded\n",
            "850 files loaded\n",
            "900 files loaded\n",
            "950 files loaded\n",
            "1000 files loaded\n"
          ],
          "name": "stdout"
        }
      ]
    },
    {
      "cell_type": "code",
      "metadata": {
        "colab": {
          "base_uri": "https://localhost:8080/"
        },
        "id": "delayed-seafood",
        "outputId": "d6e38400-a05e-4307-f606-77eb83263bb3"
      },
      "source": [
        "len(X_orig)"
      ],
      "id": "delayed-seafood",
      "execution_count": 41,
      "outputs": [
        {
          "output_type": "execute_result",
          "data": {
            "text/plain": [
              "1000"
            ]
          },
          "metadata": {
            "tags": []
          },
          "execution_count": 41
        }
      ]
    },
    {
      "cell_type": "code",
      "metadata": {
        "id": "understanding-multiple"
      },
      "source": [
        "def get_Y_orig(labels_loc):\n",
        "    Y_df = pd.read_csv(labels_loc,nrows=1000)\n",
        "    Y_orig = np.array(Y_df.iloc[:,1:])\n",
        "    return Y_orig"
      ],
      "id": "understanding-multiple",
      "execution_count": 42,
      "outputs": []
    },
    {
      "cell_type": "code",
      "metadata": {
        "id": "empty-strength"
      },
      "source": [
        "labels_loc = '/content/drive/MyDrive/MachineLearning/ISIC2018/ISIC2018_Task3_Training_GroundTruth/ISIC2018_Task3_Training_GroundTruth.csv'\n",
        "Y_orig = get_Y_orig(labels_loc)"
      ],
      "id": "empty-strength",
      "execution_count": 43,
      "outputs": []
    },
    {
      "cell_type": "code",
      "metadata": {
        "colab": {
          "base_uri": "https://localhost:8080/"
        },
        "id": "atomic-accreditation",
        "outputId": "1adf2a21-4e66-4cbd-a747-aaaaa66703ad"
      },
      "source": [
        "len(Y_orig)"
      ],
      "id": "atomic-accreditation",
      "execution_count": 44,
      "outputs": [
        {
          "output_type": "execute_result",
          "data": {
            "text/plain": [
              "1000"
            ]
          },
          "metadata": {
            "tags": []
          },
          "execution_count": 44
        }
      ]
    },
    {
      "cell_type": "code",
      "metadata": {
        "id": "active-bolivia"
      },
      "source": [
        "X_orig_file = 'X_orig.npy'\n",
        "np.save(X_orig_file, X_orig)\n",
        " \n",
        "Y_orig_file = 'Y_orig.npy'\n",
        "np.save(Y_orig_file, Y_orig)"
      ],
      "id": "active-bolivia",
      "execution_count": 45,
      "outputs": []
    },
    {
      "cell_type": "code",
      "metadata": {
        "id": "suited-consensus"
      },
      "source": [
        " \n",
        "def get_random_crops(filelist, input_shape, Y_orig, num_crops, label):\n",
        "    \n",
        "    #rc = random crom\n",
        "    \n",
        "    label_dict = {'MEL':0, 'NV':1, 'BCC': 2, 'AKIEC': 3, 'BKL': 4, 'DF': 5, 'VASC': 6}\n",
        "    label_num = label_dict[label]\n",
        "    Y_lst = []\n",
        "    bs, n_H, n_W, n_C = input_shape\n",
        "    bs_rc = (np.sum((Y_orig[:,label_num]==1).astype(int)))*num_crops\n",
        "    X_rc = np.empty([bs_rc, n_H, n_W, n_C])\n",
        "    dfrcloc = 0\n",
        "    for i, fname in enumerate(filelist[:bs]):\n",
        "        if Y_orig[i,label_num]:\n",
        "            img = plt.imread(fname)\n",
        "            for j in range(num_crops):\n",
        "                c = np.random.choice(range(-20,20),4)\n",
        "                img_cropped = img[50+c[0]:400+c[1],50+c[2]:550+c[3],:]\n",
        "                img_cropped = skimage.transform.resize(img, (n_H,n_W), mode='constant')\n",
        "                X_rc[dfrcloc] = img_cropped\n",
        "                Y_lst.append(Y_orig[i])\n",
        "                dfrcloc +=1\n",
        "    Y_rc = np.array(Y_lst)\n",
        "    return X_rc, Y_rc"
      ],
      "id": "suited-consensus",
      "execution_count": 46,
      "outputs": []
    },
    {
      "cell_type": "code",
      "metadata": {
        "id": "sacred-strain"
      },
      "source": [
        " \n",
        "num_crops = 4\n",
        " \n",
        "X_DF_rc, Y_DF_rc = get_random_crops(filelist, input_shape, Y_orig, num_crops, label='DF')"
      ],
      "id": "sacred-strain",
      "execution_count": 47,
      "outputs": []
    },
    {
      "cell_type": "code",
      "metadata": {
        "colab": {
          "base_uri": "https://localhost:8080/"
        },
        "id": "narrative-stage",
        "outputId": "e19a4a3b-c558-4198-eedc-78da98cca3e2"
      },
      "source": [
        "print(X_orig.shape)\n",
        "print(Y_orig.shape)\n",
        "print(X_DF_rc.shape)\n",
        "print(Y_DF_rc.shape)"
      ],
      "id": "narrative-stage",
      "execution_count": 48,
      "outputs": [
        {
          "output_type": "stream",
          "text": [
            "(1000, 224, 224, 3)\n",
            "(1000, 7)\n",
            "(44, 224, 224, 3)\n",
            "(44, 7)\n"
          ],
          "name": "stdout"
        }
      ]
    },
    {
      "cell_type": "code",
      "metadata": {
        "id": "physical-liquid"
      },
      "source": [
        "X_VASC_rc, Y_VASC_rc = get_random_crops(filelist, input_shape, Y_orig, num_crops, label='VASC')"
      ],
      "id": "physical-liquid",
      "execution_count": 49,
      "outputs": []
    },
    {
      "cell_type": "code",
      "metadata": {
        "colab": {
          "base_uri": "https://localhost:8080/"
        },
        "id": "wired-norwegian",
        "outputId": "25c4533a-882f-490b-b4d5-f62c759ca015"
      },
      "source": [
        " \n",
        "print(X_VASC_rc.shape)\n",
        "print(Y_VASC_rc.shape)"
      ],
      "id": "wired-norwegian",
      "execution_count": 51,
      "outputs": [
        {
          "output_type": "stream",
          "text": [
            "(56, 224, 224, 3)\n",
            "(56, 7)\n"
          ],
          "name": "stdout"
        }
      ]
    },
    {
      "cell_type": "code",
      "metadata": {
        "id": "posted-electric"
      },
      "source": [
        "def flip_vert(X_orig, Y_orig):\n",
        "    m, n_H0, n_W0, n_C0 = X_orig.shape\n",
        "    X_flip = X_orig[:,n_H0-1::-1,:,:]\n",
        "    Y_flip = Y_orig\n",
        "    return X_flip, Y_flip"
      ],
      "id": "posted-electric",
      "execution_count": 52,
      "outputs": []
    },
    {
      "cell_type": "code",
      "metadata": {
        "id": "bulgarian-silence"
      },
      "source": [
        " \n",
        "X_AKIEC = X_orig[Y_orig[:,3]==1,:]\n",
        "Y_AKIEC = Y_orig[Y_orig[:,3]==1,:]"
      ],
      "id": "bulgarian-silence",
      "execution_count": 53,
      "outputs": []
    },
    {
      "cell_type": "code",
      "metadata": {
        "id": "characteristic-advocate"
      },
      "source": [
        "X_AKIEC_flip, Y_AKIEC_flip = flip_vert(X_AKIEC, Y_AKIEC)"
      ],
      "id": "characteristic-advocate",
      "execution_count": 54,
      "outputs": []
    },
    {
      "cell_type": "code",
      "metadata": {
        "colab": {
          "base_uri": "https://localhost:8080/"
        },
        "id": "reflected-vacuum",
        "outputId": "b6b0153b-c678-4a9f-f99e-e67fd7505098"
      },
      "source": [
        "print(Y_AKIEC.shape)"
      ],
      "id": "reflected-vacuum",
      "execution_count": 55,
      "outputs": [
        {
          "output_type": "stream",
          "text": [
            "(36, 7)\n"
          ],
          "name": "stdout"
        }
      ]
    },
    {
      "cell_type": "code",
      "metadata": {
        "id": "inside-consideration"
      },
      "source": [
        " \n",
        "def flip_hor(X_orig, Y_orig):\n",
        "    m, n_H0, n_W0, n_C0 = X_orig.shape\n",
        "    X_flip = X_orig[:,:,n_W0-1::-1,:]\n",
        "    Y_flip = Y_orig\n",
        "    return X_flip, Y_flip"
      ],
      "id": "inside-consideration",
      "execution_count": 56,
      "outputs": []
    },
    {
      "cell_type": "code",
      "metadata": {
        "id": "rural-liabilities"
      },
      "source": [
        "X_orig_mirror, Y_orig_mirror = flip_hor(X_orig, Y_orig)\n",
        "X_VASC_mirror, Y_VASC_mirror = flip_hor(X_VASC_rc, Y_VASC_rc)\n",
        "X_DF_mirror, Y_DF_mirror = flip_hor(X_DF_rc, Y_DF_rc)\n",
        "X_AKIEC_flip_mirror, Y_AKIEC_flip_mirror = flip_hor(X_AKIEC_flip, Y_AKIEC_flip)"
      ],
      "id": "rural-liabilities",
      "execution_count": 57,
      "outputs": []
    },
    {
      "cell_type": "code",
      "metadata": {
        "id": "tropical-moral"
      },
      "source": [
        " \n",
        "X_with_mirror = np.vstack([X_orig, X_orig_mirror])\n",
        "Y_with_mirror = np.vstack([Y_orig, Y_orig_mirror])"
      ],
      "id": "tropical-moral",
      "execution_count": 58,
      "outputs": []
    },
    {
      "cell_type": "code",
      "metadata": {
        "id": "international-industry"
      },
      "source": [
        "X_with_mirror_file = 'X_with_mirror.npy'\n",
        "np.save(X_with_mirror_file, X_with_mirror)\n",
        " \n",
        "Y_with_mirror_file = 'Y_with_mirror.npy'\n",
        "np.save(Y_with_mirror_file, Y_with_mirror)\n",
        "#X_orig_inception_file = 'X_orig_inception.npy'\n",
        "#np.save(X_orig_inception_file, X_orig_inception)"
      ],
      "id": "international-industry",
      "execution_count": 59,
      "outputs": []
    },
    {
      "cell_type": "code",
      "metadata": {
        "id": "stupid-street"
      },
      "source": [
        "X_final = np.vstack([X_orig, X_DF_rc, X_VASC_rc, X_AKIEC_flip, X_orig_mirror, X_VASC_mirror, X_DF_mirror, X_AKIEC_flip_mirror])\n",
        "Y_final = np.vstack([Y_orig, Y_DF_rc, Y_VASC_rc, Y_AKIEC_flip, Y_orig_mirror, Y_VASC_mirror, Y_DF_mirror, Y_AKIEC_flip_mirror])"
      ],
      "id": "stupid-street",
      "execution_count": 60,
      "outputs": []
    },
    {
      "cell_type": "code",
      "metadata": {
        "id": "super-fairy",
        "colab": {
          "base_uri": "https://localhost:8080/"
        },
        "outputId": "1b019f13-f51d-43cf-adb8-5a92c0782e4f"
      },
      "source": [
        "print(X_final.shape)\n",
        "print(Y_final.shape)"
      ],
      "id": "super-fairy",
      "execution_count": 61,
      "outputs": [
        {
          "output_type": "stream",
          "text": [
            "(2272, 224, 224, 3)\n",
            "(2272, 7)\n"
          ],
          "name": "stdout"
        }
      ]
    },
    {
      "cell_type": "code",
      "metadata": {
        "id": "superb-mineral"
      },
      "source": [
        "X_final_file = 'X_final.npy'\n",
        "np.save(X_final_file, X_final)\n",
        " \n",
        "Y_final_file = 'Y_final.npy'\n",
        "np.save(Y_final_file, Y_final)\n",
        "#X_orig_inception_file = 'X_orig_inception.npy'\n",
        "#np.save(X_orig_inception_file, X_orig_inception)"
      ],
      "id": "superb-mineral",
      "execution_count": 64,
      "outputs": []
    },
    {
      "cell_type": "code",
      "metadata": {
        "id": "wound-indicator"
      },
      "source": [
        "X_final_file = 'X_final.npy'\n",
        "X = np.load(X_final_file)"
      ],
      "id": "wound-indicator",
      "execution_count": 65,
      "outputs": []
    },
    {
      "cell_type": "code",
      "metadata": {
        "id": "protecting-glance"
      },
      "source": [
        "colmins = np.min(np.min(X, axis = 1,keepdims =True), axis = 2, keepdims =True)"
      ],
      "id": "protecting-glance",
      "execution_count": 66,
      "outputs": []
    },
    {
      "cell_type": "code",
      "metadata": {
        "id": "polar-circle",
        "colab": {
          "base_uri": "https://localhost:8080/"
        },
        "outputId": "d787f816-b5bd-4635-a1c0-5a9150b0a9e7"
      },
      "source": [
        "colmins.shape"
      ],
      "id": "polar-circle",
      "execution_count": 67,
      "outputs": [
        {
          "output_type": "execute_result",
          "data": {
            "text/plain": [
              "(2272, 1, 1, 3)"
            ]
          },
          "metadata": {
            "tags": []
          },
          "execution_count": 67
        }
      ]
    },
    {
      "cell_type": "code",
      "metadata": {
        "id": "abstract-relay"
      },
      "source": [
        "X_colcorr = X-colmins"
      ],
      "id": "abstract-relay",
      "execution_count": 68,
      "outputs": []
    },
    {
      "cell_type": "code",
      "metadata": {
        "id": "indie-burke",
        "colab": {
          "base_uri": "https://localhost:8080/"
        },
        "outputId": "7a3466cc-163c-4739-93e5-c8b1a02ef960"
      },
      "source": [
        " \n",
        "X_colcorr[3]"
      ],
      "id": "indie-burke",
      "execution_count": 70,
      "outputs": [
        {
          "output_type": "execute_result",
          "data": {
            "text/plain": [
              "array([[[0.27390456, 0.29850065, 0.28203219],\n",
              "        [0.31737382, 0.32845795, 0.30653855],\n",
              "        [0.32120786, 0.33166673, 0.30910708],\n",
              "        ...,\n",
              "        [0.34282901, 0.36498256, 0.35619404],\n",
              "        [0.33897684, 0.36371642, 0.35758897],\n",
              "        [0.28605724, 0.32796494, 0.31873875]],\n",
              "\n",
              "       [[0.3007156 , 0.29821366, 0.29359244],\n",
              "        [0.3663059 , 0.35077031, 0.3437772 ],\n",
              "        [0.38048657, 0.36237745, 0.36218175],\n",
              "        ...,\n",
              "        [0.37539922, 0.40130271, 0.39701662],\n",
              "        [0.37388643, 0.39588585, 0.37892938],\n",
              "        [0.32201318, 0.35342293, 0.3359944 ]],\n",
              "\n",
              "       [[0.29914903, 0.29688375, 0.29627101],\n",
              "        [0.36395683, 0.34372218, 0.3415338 ],\n",
              "        [0.37833258, 0.35926058, 0.35234594],\n",
              "        ...,\n",
              "        [0.38477579, 0.39730361, 0.39243729],\n",
              "        [0.38446785, 0.39185924, 0.3857493 ],\n",
              "        [0.32124287, 0.34756653, 0.33936262]],\n",
              "\n",
              "       ...,\n",
              "\n",
              "       [[0.24768189, 0.32057073, 0.25596645],\n",
              "        [0.30522396, 0.36350509, 0.30134804],\n",
              "        [0.31250719, 0.36904793, 0.30712598],\n",
              "        ...,\n",
              "        [0.30282519, 0.37619048, 0.31111632],\n",
              "        [0.3020974 , 0.37128133, 0.3180219 ],\n",
              "        [0.24029393, 0.3282388 , 0.28245798]],\n",
              "\n",
              "       [[0.25554753, 0.32120098, 0.25849934],\n",
              "        [0.29927158, 0.3527486 , 0.28979529],\n",
              "        [0.30637224, 0.35233562, 0.30576699],\n",
              "        ...,\n",
              "        [0.29505959, 0.36831232, 0.31617647],\n",
              "        [0.30029668, 0.36829482, 0.32478992],\n",
              "        [0.24970082, 0.33666873, 0.28777105]],\n",
              "\n",
              "       [[0.21565876, 0.28680597, 0.22516382],\n",
              "        [0.25651948, 0.30671425, 0.25548876],\n",
              "        [0.26159307, 0.31435574, 0.2624159 ],\n",
              "        ...,\n",
              "        [0.25731074, 0.33475484, 0.27613796],\n",
              "        [0.25745642, 0.33805178, 0.28392857],\n",
              "        [0.21625963, 0.31447548, 0.26664072]]])"
            ]
          },
          "metadata": {
            "tags": []
          },
          "execution_count": 70
        }
      ]
    },
    {
      "cell_type": "code",
      "metadata": {
        "id": "beneficial-newman",
        "colab": {
          "base_uri": "https://localhost:8080/"
        },
        "outputId": "f3870d48-2185-4316-8ec9-9e3375d0b4b1"
      },
      "source": [
        "colmins[3]"
      ],
      "id": "beneficial-newman",
      "execution_count": 71,
      "outputs": [
        {
          "output_type": "execute_result",
          "data": {
            "text/plain": [
              "array([[[0.44190489, 0.11213235, 0.18098739]]])"
            ]
          },
          "metadata": {
            "tags": []
          },
          "execution_count": 71
        }
      ]
    }
  ]
}